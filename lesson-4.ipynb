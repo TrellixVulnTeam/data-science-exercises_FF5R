{
 "cells": [
  {
   "cell_type": "code",
   "execution_count": 2,
   "id": "f4aa76e9",
   "metadata": {},
   "outputs": [],
   "source": [
    "#This is a comment"
   ]
  },
  {
   "cell_type": "code",
   "execution_count": 3,
   "id": "60e4e1bc",
   "metadata": {},
   "outputs": [
    {
     "data": {
      "text/plain": [
       "' This\\nis \\na\\nlong\\ncomment'"
      ]
     },
     "execution_count": 3,
     "metadata": {},
     "output_type": "execute_result"
    }
   ],
   "source": [
    "\"\"\" This\n",
    "is \n",
    "a\n",
    "long\n",
    "comment\"\"\""
   ]
  },
  {
   "cell_type": "code",
   "execution_count": 4,
   "id": "300a323b",
   "metadata": {},
   "outputs": [
    {
     "data": {
      "text/plain": [
       "['Orange', 'Mango', 'Apple']"
      ]
     },
     "execution_count": 4,
     "metadata": {},
     "output_type": "execute_result"
    }
   ],
   "source": [
    "list = ['Orange', 'Mango', 'Apple']\n",
    "list\n"
   ]
  },
  {
   "cell_type": "code",
   "execution_count": 5,
   "id": "924802c4",
   "metadata": {},
   "outputs": [
    {
     "name": "stdout",
     "output_type": "stream",
     "text": [
      "Orange\n",
      "Mango\n",
      "Apple\n"
     ]
    }
   ],
   "source": [
    "for item in list:\n",
    "    print(item)"
   ]
  },
  {
   "cell_type": "code",
   "execution_count": 7,
   "id": "088c7e79",
   "metadata": {},
   "outputs": [],
   "source": [
    "dic = {'firstName':'Allarassem','lastName': 'Maxime', 'email': 'allarassemaxwell@gmail.com'}"
   ]
  },
  {
   "cell_type": "code",
   "execution_count": 8,
   "id": "376ec5ca",
   "metadata": {},
   "outputs": [
    {
     "name": "stdout",
     "output_type": "stream",
     "text": [
      "firstName\n",
      "lastName\n",
      "email\n"
     ]
    }
   ],
   "source": [
    "for item in dic:\n",
    "    print(item)"
   ]
  },
  {
   "cell_type": "code",
   "execution_count": 17,
   "id": "19ceed64",
   "metadata": {},
   "outputs": [
    {
     "data": {
      "text/plain": [
       "'Maxwell'"
      ]
     },
     "execution_count": 17,
     "metadata": {},
     "output_type": "execute_result"
    }
   ],
   "source": [
    "firstName = \"allarassem\"\n",
    "firstName.replace('allarassem', 'Maxwell')"
   ]
  },
  {
   "cell_type": "code",
   "execution_count": 19,
   "id": "de2de0a5",
   "metadata": {},
   "outputs": [
    {
     "data": {
      "text/plain": [
       "1"
      ]
     },
     "execution_count": 19,
     "metadata": {},
     "output_type": "execute_result"
    }
   ],
   "source": [
    "firstName.count(firstName)"
   ]
  },
  {
   "cell_type": "code",
   "execution_count": 26,
   "id": "54a8fd14",
   "metadata": {},
   "outputs": [
    {
     "data": {
      "text/plain": [
       "9"
      ]
     },
     "execution_count": 26,
     "metadata": {},
     "output_type": "execute_result"
    }
   ],
   "source": [
    "firstName.find('m')"
   ]
  },
  {
   "cell_type": "code",
   "execution_count": 27,
   "id": "560ef0ac",
   "metadata": {},
   "outputs": [],
   "source": [
    "list.append('Tv')"
   ]
  },
  {
   "cell_type": "code",
   "execution_count": 28,
   "id": "2ccf5652",
   "metadata": {},
   "outputs": [
    {
     "data": {
      "text/plain": [
       "['Orange', 'Mango', 'Apple', 'Tv']"
      ]
     },
     "execution_count": 28,
     "metadata": {},
     "output_type": "execute_result"
    }
   ],
   "source": [
    "list"
   ]
  },
  {
   "cell_type": "code",
   "execution_count": 29,
   "id": "2ff7e3a6",
   "metadata": {},
   "outputs": [
    {
     "data": {
      "text/plain": [
       "{'Apple', 'Bread', 'Orange'}"
      ]
     },
     "execution_count": 29,
     "metadata": {},
     "output_type": "execute_result"
    }
   ],
   "source": [
    "tuple = {'Orange', 'Apple', 'Bread'}\n",
    "tuple"
   ]
  },
  {
   "cell_type": "code",
   "execution_count": 31,
   "id": "a12dc787",
   "metadata": {},
   "outputs": [],
   "source": [
    "tuple.add('Rice')"
   ]
  },
  {
   "cell_type": "code",
   "execution_count": 32,
   "id": "6a6c9431",
   "metadata": {},
   "outputs": [
    {
     "data": {
      "text/plain": [
       "{'Apple', 'Bread', 'Orange', 'Rice'}"
      ]
     },
     "execution_count": 32,
     "metadata": {},
     "output_type": "execute_result"
    }
   ],
   "source": [
    "tuple"
   ]
  },
  {
   "cell_type": "code",
   "execution_count": 33,
   "id": "6b7b9bd1",
   "metadata": {},
   "outputs": [
    {
     "data": {
      "text/plain": [
       "{'Apple', 'Bread', 'Mango', 'Orange', 'Rice'}"
      ]
     },
     "execution_count": 33,
     "metadata": {},
     "output_type": "execute_result"
    }
   ],
   "source": [
    "tuple.add('Mango')\n",
    "tuple"
   ]
  },
  {
   "cell_type": "code",
   "execution_count": 34,
   "id": "1f94d43c",
   "metadata": {},
   "outputs": [
    {
     "data": {
      "text/plain": [
       "{'Apple', 'Bread', 'Mango', 'Orange', 'Rice'}"
      ]
     },
     "execution_count": 34,
     "metadata": {},
     "output_type": "execute_result"
    }
   ],
   "source": [
    "tuple.add('Mango')\n",
    "tuple"
   ]
  },
  {
   "cell_type": "code",
   "execution_count": 35,
   "id": "91985194",
   "metadata": {},
   "outputs": [
    {
     "name": "stdout",
     "output_type": "stream",
     "text": [
      "Current Pupil: Emma \n",
      "Current Pupil: Sandy\n",
      "Current Pupil: Sara\n",
      "Current Pupil: James\n",
      "Current Pupil: Ethan\n"
     ]
    }
   ],
   "source": [
    "students = ['Emma ', 'Sandy','Sara','James', 'Ethan']\n",
    "for pupil in students:\n",
    "  print(f'Current Pupil: {pupil}')"
   ]
  },
  {
   "cell_type": "code",
   "execution_count": 39,
   "id": "dddf2552",
   "metadata": {},
   "outputs": [
    {
     "name": "stdout",
     "output_type": "stream",
     "text": [
      "======== TO DAY ========\n",
      "2021-05-19\n",
      "\n",
      "======== TIMESTAMP ========\n",
      "1621422463.5288162\n"
     ]
    }
   ],
   "source": [
    "import datetime\n",
    "from datetime import date\n",
    "import time\n",
    "from time import time\n",
    "today = date.today()\n",
    "timestamp = time()\n",
    "\n",
    "print(\"======== TO DAY ========\")\n",
    "print(today)\n",
    "print(\"\\n======== TIMESTAMP ========\")\n",
    "print(timestamp)\n"
   ]
  },
  {
   "cell_type": "code",
   "execution_count": null,
   "id": "89a5402b",
   "metadata": {},
   "outputs": [],
   "source": []
  }
 ],
 "metadata": {
  "kernelspec": {
   "display_name": "Python 3",
   "language": "python",
   "name": "python3"
  },
  "language_info": {
   "codemirror_mode": {
    "name": "ipython",
    "version": 3
   },
   "file_extension": ".py",
   "mimetype": "text/x-python",
   "name": "python",
   "nbconvert_exporter": "python",
   "pygments_lexer": "ipython3",
   "version": "3.8.8"
  }
 },
 "nbformat": 4,
 "nbformat_minor": 5
}
